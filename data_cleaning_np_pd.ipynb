{
 "cells": [
  {
   "cell_type": "code",
   "execution_count": 18,
   "id": "e12a9fef-15e8-476f-a71d-8b8b12fe1911",
   "metadata": {},
   "outputs": [
    {
     "name": "stdout",
     "output_type": "stream",
     "text": [
      "   Unnamed: 0  year  month  day  dep_time  dep_delay  arr_time  arr_delay  \\\n",
      "0           1  2013      1    1     517.0        2.0     830.0       11.0   \n",
      "1           2  2013      1    1     533.0        4.0     850.0       20.0   \n",
      "2           3  2013      1    1     542.0        2.0     923.0       33.0   \n",
      "3           4  2013      1    1     544.0       -1.0    1004.0      -18.0   \n",
      "4           5  2013      1    1     554.0       -6.0     812.0      -25.0   \n",
      "5           6  2013      1    1     554.0       -4.0     740.0       12.0   \n",
      "6           7  2013      1    1     555.0       -5.0     913.0       19.0   \n",
      "7           8  2013      1    1     557.0       -3.0     709.0      -14.0   \n",
      "8           9  2013      1    1     557.0       -3.0     838.0       -8.0   \n",
      "9          10  2013      1    1     558.0       -2.0     753.0        8.0   \n",
      "\n",
      "  carrier tailnum  flight origin dest  air_time  distance  hour  minute  \n",
      "0      UA  N14228    1545    EWR  IAH     227.0      1400   5.0    17.0  \n",
      "1      UA  N24211    1714    LGA  IAH     227.0      1416   5.0    33.0  \n",
      "2      AA  N619AA    1141    JFK  MIA     160.0      1089   5.0    42.0  \n",
      "3      B6  N804JB     725    JFK  BQN     183.0      1576   5.0    44.0  \n",
      "4      DL  N668DN     461    LGA  ATL     116.0       762   5.0    54.0  \n",
      "5      UA  N39463    1696    EWR  ORD     150.0       719   5.0    54.0  \n",
      "6      B6  N516JB     507    EWR  FLL     158.0      1065   5.0    55.0  \n",
      "7      EV  N829AS    5708    LGA  IAD      53.0       229   5.0    57.0  \n",
      "8      B6  N593JB      79    JFK  MCO     140.0       944   5.0    57.0  \n",
      "9      AA  N3ALAA     301    LGA  ORD     138.0       733   5.0    58.0  \n"
     ]
    }
   ],
   "source": [
    "# Libraries\n",
    "import pandas as pd\n",
    "import matplotlib.pyplot as plt\n",
    "import numpy as np\n",
    "\n",
    "# Importing Data\n",
    "flights_data = pd.read_csv('flights.csv')\n",
    "print(flights_data.head(10))\n",
    "weather_data_pd = pd.read_csv('weather.csv')\n",
    "weather_data_np = weather_data_pd.to_numpy()"
   ]
  },
  {
   "cell_type": "code",
   "execution_count": 19,
   "id": "ce1b68b2-7300-4b19-ade6-8b6bc310660a",
   "metadata": {},
   "outputs": [
    {
     "name": "stdout",
     "output_type": "stream",
     "text": [
      "0\n"
     ]
    }
   ],
   "source": [
    "#Q1 How many flights were there from JFK to SLC? Int\n",
    "q1 = flights_data[(flights_data['origin'] == 'JKF') & (flights_data['dest'] == 'SLC')].shape[0]\n",
    "print(q1)"
   ]
  },
  {
   "cell_type": "code",
   "execution_count": 24,
   "id": "4a9245ac-3b12-424f-b90e-68a0cb752154",
   "metadata": {},
   "outputs": [
    {
     "name": "stdout",
     "output_type": "stream",
     "text": [
      "2\n"
     ]
    }
   ],
   "source": [
    "#Q2 How many airlines fly to SLC? Should be int\n",
    "q2 = flights_data[flights_data['dest'] == 'SLC']['carrier'].nunique()\n",
    "print(q2)"
   ]
  },
  {
   "cell_type": "code",
   "execution_count": 25,
   "id": "09d59682-866a-4f58-b588-b70149670ad2",
   "metadata": {},
   "outputs": [
    {
     "name": "stdout",
     "output_type": "stream",
     "text": [
      "10.052380952380952\n"
     ]
    }
   ],
   "source": [
    "#Q3 What is the average arrival delay for flights to RDU? float\n",
    "q3 = flights_data[flights_data['dest'] == 'RDU']['arr_delay'].mean()\n",
    "print(q3)"
   ]
  },
  {
   "cell_type": "code",
   "execution_count": 29,
   "id": "e5934f0f-f776-4230-b1c0-3fe7b625541b",
   "metadata": {},
   "outputs": [
    {
     "name": "stdout",
     "output_type": "stream",
     "text": [
      "0.5332653581442773\n"
     ]
    }
   ],
   "source": [
    "#Q4 What proportion of flights to SEA come from the two NYC airports (LGA and JFK)?  float\n",
    "sea_flights_to_nyc = flights_data[(flights_data['dest'] == 'SEA') & (flights_data['origin'].isin(['LGA', 'JFK']))].shape[0]\n",
    "total_flights = flights_data[flights_data['dest'] == 'SEA'].shape[0]\n",
    "q4 = sea_flights_to_nyc/total_flights\n",
    "print(q4)"
   ]
  },
  {
   "cell_type": "code",
   "execution_count": 33,
   "id": "73776bb6-e06f-48aa-a0d3-db69b692ba27",
   "metadata": {},
   "outputs": [
    {
     "name": "stdout",
     "output_type": "stream",
     "text": [
      "('2013/03/08', np.float64(85.86215538847118))\n"
     ]
    }
   ],
   "source": [
    "#Q5 Which date has the largest average depature delay? Pd slice with date and float\n",
    "#please make date a column. Preferred format is 2013/1/1 (y/m/d)\n",
    "\n",
    "flights_data['date'] = pd.to_datetime(flights_data[['year','month','day']])\n",
    "avg_delay_by_date = flights_data.groupby('date')['arr_delay'].mean()\n",
    "max_avg_arrival_delay_date = avg_delay_by_date.idxmax()\n",
    "max_avg_arrival_delay = avg_delay_by_date.max()\n",
    "\n",
    "# Format date to \"y/m/d\"\n",
    "formatted_date_q6 = max_avg_arrival_delay_date.strftime('%Y/%m/%d')\n",
    "q6 = (formatted_date_q6, max_avg_arrival_delay)\n",
    "print(q6)"
   ]
  },
  {
   "cell_type": "code",
   "execution_count": 34,
   "id": "25fb3709-fba2-45bd-945a-177ef8bd2350",
   "metadata": {},
   "outputs": [
    {
     "name": "stdout",
     "output_type": "stream",
     "text": [
      "tailnum       N666DN\n",
      "speed      11.723077\n",
      "Name: 216447, dtype: object\n"
     ]
    }
   ],
   "source": [
    "# Q7 Which flight departing LGA or JFK in 2013 flew the fastest? (speed = distance / airtime)\n",
    "flights_data['speed'] = flights_data['distance'] / flights_data['air_time']\n",
    "fastest_flight = flights_data[(flights_data['origin'].isin(['LGA', 'JFK'])) & (flights_data['year'] == 2013)].sort_values(by='speed', ascending=False).iloc[0]\n",
    "q7 = fastest_flight[['tailnum', 'speed']]\n",
    "print(q7)"
   ]
  },
  {
   "cell_type": "code",
   "execution_count": 45,
   "id": "55999807-e804-4743-b97e-17c2ec21b257",
   "metadata": {},
   "outputs": [
    {
     "name": "stdout",
     "output_type": "stream",
     "text": [
      "      Unnamed: 0 origin  year  month   day  hour   temp   dewp  humid  \\\n",
      "0              1    EWR  2013    1.0   1.0   0.0  37.04  21.92  53.97   \n",
      "1              2    EWR  2013    1.0   1.0   1.0  37.04  21.92  53.97   \n",
      "2              3    EWR  2013    1.0   1.0   2.0  37.94  21.92  52.09   \n",
      "3              4    EWR  2013    1.0   1.0   3.0  37.94  23.00  54.51   \n",
      "4              5    EWR  2013    1.0   1.0   4.0  37.94  24.08  57.04   \n",
      "...          ...    ...   ...    ...   ...   ...    ...    ...    ...   \n",
      "8714        8715    JFK  2013    9.0   2.0  20.0  75.20  73.40  94.14   \n",
      "8715        8716    JFK  2013   10.0  23.0  10.0  48.92  39.02  68.51   \n",
      "8716        8717    JFK  2013   10.0  23.0  11.0  48.92  39.02  68.51   \n",
      "8717        8718    JFK  2013   12.0  17.0   5.0  26.96  10.94  50.34   \n",
      "8718        8719    LGA  2013    8.0  22.0  22.0  75.92  66.92  73.68   \n",
      "\n",
      "      wind_dir  wind_speed  wind_gust  precip  pressure  visib  \n",
      "0        230.0    10.35702  11.918651     0.0    1013.9   10.0  \n",
      "1        230.0    13.80936  15.891535     0.0    1013.0   10.0  \n",
      "2        230.0    12.65858  14.567241     0.0    1012.6   10.0  \n",
      "3        230.0    13.80936  15.891535     0.0    1012.7   10.0  \n",
      "4        240.0    14.96014  17.215830     0.0    1012.8   10.0  \n",
      "...        ...         ...        ...     ...       ...    ...  \n",
      "8714     200.0     4.60312   5.297178     0.0       0.0    4.0  \n",
      "8715      60.0     4.60312   5.297178     0.0    1008.1   10.0  \n",
      "8716      40.0     4.60312   5.297178     0.0    1008.5   10.0  \n",
      "8717      40.0     4.60312   5.297178     0.0    1023.9   10.0  \n",
      "8718     210.0     8.05546   9.270062     0.0    1011.9   10.0  \n",
      "\n",
      "[8719 rows x 15 columns]\n"
     ]
    }
   ],
   "source": [
    "# Q8 Replace all nans in the weather pd dataframe with 0s. Pd with no nans\n",
    "weather_data_pd.fillna(0, inplace=True)\n",
    "q8 = weather_data_pd\n",
    "print(q8)"
   ]
  },
  {
   "cell_type": "code",
   "execution_count": 60,
   "id": "e9c0f90f-44ee-44df-830b-aac03c84b208",
   "metadata": {},
   "outputs": [
    {
     "name": "stdout",
     "output_type": "stream",
     "text": [
      "671\n"
     ]
    }
   ],
   "source": [
    "# Q9 How many observations were made in Feburary? Int\n",
    "february_data = weather_data_np[weather_data_np[:, 3] == 2] \n",
    "q9 = february_data.shape[0]\n",
    "print(q9)"
   ]
  },
  {
   "cell_type": "code",
   "execution_count": 63,
   "id": "f078d9c7-55fc-4aa5-85b1-c9226f8605b9",
   "metadata": {},
   "outputs": [
    {
     "name": "stdout",
     "output_type": "stream",
     "text": [
      "62.918152011922515\n"
     ]
    }
   ],
   "source": [
    "#Q10 What was the mean for humidity in February? Float\n",
    "\n",
    "if february_data.size > 0:\n",
    "    humidity_mean_february = february_data[:, 8].mean() \n",
    "else:\n",
    "    humidity_mean_february = np.nan\n",
    "q10 = humidity_mean_february\n",
    "print(q10)\n"
   ]
  },
  {
   "cell_type": "code",
   "execution_count": 65,
   "id": "0501c327-37ab-4538-be49-a517ea06291a",
   "metadata": {},
   "outputs": [
    {
     "name": "stdout",
     "output_type": "stream",
     "text": [
      "20.33690087674334\n"
     ]
    }
   ],
   "source": [
    "#11 What was the std for humidity in February? Float\n",
    "\n",
    "if february_data.size > 0 and february_data[:, 8].size > 0:\n",
    "    humidity_std_february = february_data[:, 8].std()\n",
    "else:\n",
    "    humidity_std_february = np.nan\n",
    "q11 = humidity_std_february\n",
    "print(q11)"
   ]
  },
  {
   "cell_type": "code",
   "execution_count": null,
   "id": "9c7c3a87-71f1-4877-bb2f-b79cf243e7fe",
   "metadata": {},
   "outputs": [],
   "source": []
  }
 ],
 "metadata": {
  "kernelspec": {
   "display_name": "Python 3 (ipykernel)",
   "language": "python",
   "name": "python3"
  },
  "language_info": {
   "codemirror_mode": {
    "name": "ipython",
    "version": 3
   },
   "file_extension": ".py",
   "mimetype": "text/x-python",
   "name": "python",
   "nbconvert_exporter": "python",
   "pygments_lexer": "ipython3",
   "version": "3.12.5"
  }
 },
 "nbformat": 4,
 "nbformat_minor": 5
}
